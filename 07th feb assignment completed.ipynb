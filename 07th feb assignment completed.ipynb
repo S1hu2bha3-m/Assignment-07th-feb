{
 "cells": [
  {
   "cell_type": "markdown",
   "id": "f7edfeb1-7c27-43e1-9cee-1062e3b286ab",
   "metadata": {},
   "source": [
    "Q1. You are writing code for a company. The requirement of the company is that you create a python \n",
    "function that will check whether the password entered by the user is correct or not. The function should \n",
    "take the password as input and return the string “Valid Password” if the entered password follows the \n",
    "below-given password guidelines else it should return “Invalid Password”.\n",
    "\n",
    "\n",
    "Note: 1. The Password should contain at least two uppercase letters and at least two lowercase letters.\n",
    "\n",
    "2. The Password should contain at least a number and three special characters.\n",
    "\n",
    "3. The length of the password should be 10 characters long."
   ]
  },
  {
   "cell_type": "code",
   "execution_count": 1,
   "id": "6abb8535-c797-4dfe-830d-5b28a42d4e89",
   "metadata": {},
   "outputs": [],
   "source": [
    "import re\n",
    "\n",
    "def check_password(password):\n",
    "    if len(password) < 10:\n",
    "        return \"Invalid Password\"\n",
    "    \n",
    "    \n",
    "    uppercase_count = len(re.findall(r'[A-Z]', password))\n",
    "    lowercase_count = len(re.findall(r'[a-z]', password))\n",
    "    if uppercase_count < 2 or lowercase_count < 2:\n",
    "        return \"Invalid Password\"\n",
    "    digit_count = len(re.findall(r'\\d', password))\n",
    "    special_count = len(re.findall(r'[!@#$%^&*(),.?\":{}|<>]', password))\n",
    "    if digit_count < 1 or special_count < 3:\n",
    "        return \"Invalid Password\"\n",
    "    return \"Valid Password\"\n"
   ]
  },
  {
   "cell_type": "markdown",
   "id": "4d95db94-a086-4458-b653-1d920aa9c05f",
   "metadata": {},
   "source": [
    "Q2. Solve the below-given questions using at least one of the following: \n",
    "\n",
    "1. Lambda function\n",
    "2. Filter function\n",
    "3. map function\n",
    "4. List Comprehension\n"
   ]
  },
  {
   "cell_type": "markdown",
   "id": "06927f56-7ad2-455f-b870-9d4ff1a0eb19",
   "metadata": {},
   "source": [
    " Check if the string starts with a particular letter"
   ]
  },
  {
   "cell_type": "code",
   "execution_count": 2,
   "id": "a30a2119-fdfe-4982-ad53-0e0cf652027e",
   "metadata": {},
   "outputs": [
    {
     "name": "stdout",
     "output_type": "stream",
     "text": [
      "True\n",
      "False\n"
     ]
    }
   ],
   "source": [
    "starts_with = lambda x: True if x.startswith('A') else False\n",
    "\n",
    "print(starts_with('Apple')) \n",
    "print(starts_with('banana')) \n"
   ]
  },
  {
   "cell_type": "code",
   "execution_count": null,
   "id": "11b5ede8-a3a2-4e16-b27e-f9e607682caf",
   "metadata": {},
   "outputs": [],
   "source": [
    "Check if the string is numeric"
   ]
  },
  {
   "cell_type": "code",
   "execution_count": 3,
   "id": "bdf9bde6-3331-4b6f-8975-b6700c51ae1a",
   "metadata": {},
   "outputs": [
    {
     "name": "stdout",
     "output_type": "stream",
     "text": [
      "True\n",
      "False\n",
      "False\n"
     ]
    }
   ],
   "source": [
    "is_numeric = lambda s: s.replace('.', '', 1).isdigit()\n",
    "print(is_numeric('1234')) \n",
    "print(is_numeric('-1234')) \n",
    "print(is_numeric('12a34')) \n"
   ]
  },
  {
   "cell_type": "markdown",
   "id": "155ca08e-c18a-4ea4-a0ae-565448228c03",
   "metadata": {},
   "source": [
    "Sort a list of tuples having fruit names and their quantity. [(\"mango\",99),(\"orange\",80), (\"grapes\", 1000)]"
   ]
  },
  {
   "cell_type": "code",
   "execution_count": 4,
   "id": "e4b5fbda-3a3b-409b-9a4e-054338cd1964",
   "metadata": {},
   "outputs": [
    {
     "name": "stdout",
     "output_type": "stream",
     "text": [
      "[('orange', 80), ('mango', 99), ('grapes', 1000)]\n"
     ]
    }
   ],
   "source": [
    "fruits = [(\"mango\", 99), (\"orange\", 80), (\"grapes\", 1000)]\n",
    "\n",
    "sorted_fruits = sorted(fruits, key=lambda x: x[1])\n",
    "\n",
    "print(sorted_fruits) \n"
   ]
  },
  {
   "cell_type": "markdown",
   "id": "6849b8b7-8fd8-4dd3-a86f-8d77a0db70fc",
   "metadata": {},
   "source": [
    "Find the squares of numbers from 1 to 10"
   ]
  },
  {
   "cell_type": "code",
   "execution_count": 5,
   "id": "268a9cc4-549c-4208-9810-cb87bc5face1",
   "metadata": {},
   "outputs": [
    {
     "data": {
      "text/plain": [
       "[1, 4, 9, 16, 25, 36, 49, 64, 81, 100]"
      ]
     },
     "execution_count": 5,
     "metadata": {},
     "output_type": "execute_result"
    }
   ],
   "source": [
    "l = [1, 2, 3, 4, 5, 6, 7, 8, 9, 10]\n",
    "list(map(lambda x : x**2 , l))"
   ]
  },
  {
   "cell_type": "markdown",
   "id": "3480ce2a-f33a-4921-89bd-8d3ecb139312",
   "metadata": {},
   "source": [
    "Find the cube root of numbers from 1 to 10"
   ]
  },
  {
   "cell_type": "code",
   "execution_count": 7,
   "id": "9c4e218c-ec74-4904-93de-a30d7c2a7df1",
   "metadata": {},
   "outputs": [
    {
     "data": {
      "text/plain": [
       "[1.0,\n",
       " 1.2599210498948732,\n",
       " 1.4422495703074083,\n",
       " 1.5874010519681994,\n",
       " 1.7099759466766968,\n",
       " 1.8171205928321397,\n",
       " 1.912931182772389,\n",
       " 2.0,\n",
       " 2.080083823051904,\n",
       " 2.154434690031884]"
      ]
     },
     "execution_count": 7,
     "metadata": {},
     "output_type": "execute_result"
    }
   ],
   "source": [
    "l2 = [1, 2, 3, 4, 5, 6, 7, 8, 9, 10]\n",
    "list(map(lambda x : x**(1/3) , l2))"
   ]
  },
  {
   "cell_type": "markdown",
   "id": "b9cc0e62-1977-45a0-979a-9c0483029d18",
   "metadata": {},
   "source": [
    " Check if a given number is even"
   ]
  },
  {
   "cell_type": "code",
   "execution_count": 8,
   "id": "04af1dbb-4686-4fa3-8099-3a5dbe2cb706",
   "metadata": {},
   "outputs": [
    {
     "name": "stdout",
     "output_type": "stream",
     "text": [
      "True\n",
      "False\n",
      "True\n"
     ]
    }
   ],
   "source": [
    "is_even = lambda x: x % 2 == 0\n",
    "print(is_even(2)) \n",
    "print(is_even(3)) \n",
    "print(is_even(-4)) \n"
   ]
  },
  {
   "cell_type": "markdown",
   "id": "b58acd01-3976-4077-9bbb-42f624dedb2f",
   "metadata": {},
   "source": [
    " Filter odd numbers from the given list.\n",
    "\n",
    " [1,2,3,4,5,6,7,8,9,10]"
   ]
  },
  {
   "cell_type": "code",
   "execution_count": 9,
   "id": "68293d48-c321-4503-8f14-48783e61cde8",
   "metadata": {},
   "outputs": [
    {
     "name": "stdout",
     "output_type": "stream",
     "text": [
      "[1, 3, 5, 7, 9]\n"
     ]
    }
   ],
   "source": [
    "numbers = [1, 2, 3, 4, 5, 6, 7, 8, 9, 10]\n",
    "is_odd = lambda x: x % 2 != 0\n",
    "odd_numbers = list(filter(is_odd, numbers))\n",
    "print(odd_numbers) \n"
   ]
  },
  {
   "cell_type": "markdown",
   "id": "d7a55e1b-ec5e-4dc6-9d2f-72fbd6d0999f",
   "metadata": {},
   "source": [
    " Sort a list of integers into positive and negative integers lists.\n",
    "\n",
    " [1,2,3,4,5,6,-1,-2,-3,-4,-5,0]"
   ]
  },
  {
   "cell_type": "code",
   "execution_count": 10,
   "id": "195cac62-c675-4d27-86be-07adf327da0f",
   "metadata": {},
   "outputs": [
    {
     "name": "stdout",
     "output_type": "stream",
     "text": [
      "[1, 2, 3, 4, 5, 6]\n",
      "[-1, -2, -3, -4, -5]\n"
     ]
    }
   ],
   "source": [
    "numbers = [1, 2, 3, 4, 5, 6, -1, -2, -3, -4, -5, 0]\n",
    "positive_numbers = [x for x in numbers if x > 0]\n",
    "negative_numbers = [x for x in numbers if x < 0]\n",
    "\n",
    "print(positive_numbers) \n",
    "print(negative_numbers) \n"
   ]
  },
  {
   "cell_type": "code",
   "execution_count": null,
   "id": "809aaf15-8f9a-4f4f-8787-a2ddc96d45e5",
   "metadata": {},
   "outputs": [],
   "source": []
  }
 ],
 "metadata": {
  "kernelspec": {
   "display_name": "Python 3 (ipykernel)",
   "language": "python",
   "name": "python3"
  },
  "language_info": {
   "codemirror_mode": {
    "name": "ipython",
    "version": 3
   },
   "file_extension": ".py",
   "mimetype": "text/x-python",
   "name": "python",
   "nbconvert_exporter": "python",
   "pygments_lexer": "ipython3",
   "version": "3.10.8"
  }
 },
 "nbformat": 4,
 "nbformat_minor": 5
}
